{
 "cells": [
  {
   "cell_type": "markdown",
   "metadata": {},
   "source": [
    "# Introduction to Pydantic for LLM Structured Outputs\n",
    "\n",
    "Pydantic is a Python library for data validation using Python type annotations.\n",
    "It's particularly useful for ensuring structured outputs from Large Language Models (LLMs)."
   ]
  },
  {
   "cell_type": "code",
   "execution_count": null,
   "metadata": {},
   "outputs": [],
   "source": [
    "import pydantic\n",
    "from pydantic import BaseModel, Field\n",
    "from typing import List, Optional, Literal\n",
    "\n",
    "print(f\"Using Pydantic version: {pydantic.__version__}\\n\")"
   ]
  },
  {
   "cell_type": "code",
   "execution_count": 2,
   "metadata": {},
   "outputs": [],
   "source": [
    "# Define a User model\n",
    "class User(BaseModel):\n",
    "    id: int  \n",
    "    name: str"
   ]
  },
  {
   "cell_type": "code",
   "execution_count": null,
   "metadata": {},
   "outputs": [],
   "source": [
    "# Create a valid user\n",
    "user1 = User(id=1, name=\"John Doe\")\n",
    "print(user1)"
   ]
  },
  {
   "cell_type": "code",
   "execution_count": 4,
   "metadata": {},
   "outputs": [],
   "source": [
    "# Create an invalid user\n",
    "# user2 = User(id=\"a\", name=\"John Doe\")\n",
    "# print(user2)"
   ]
  },
  {
   "cell_type": "markdown",
   "metadata": {},
   "source": [
    "## Part 1: Common Data Types in Pydantic"
   ]
  },
  {
   "cell_type": "markdown",
   "metadata": {},
   "source": [
    "### String Types"
   ]
  },
  {
   "cell_type": "code",
   "execution_count": 5,
   "metadata": {},
   "outputs": [],
   "source": [
    "class StringExample(BaseModel):\n",
    "    name: str\n",
    "    description: Optional[str] = None  # Optional field with default None\n",
    "    email: str = Field(..., pattern=r\"^\\S+@\\S+\\.\\S+$\")  # With validation regex"
   ]
  },
  {
   "cell_type": "code",
   "execution_count": null,
   "metadata": {},
   "outputs": [],
   "source": [
    "# Demonstration\n",
    "print(\"\\nString Type Example:\")\n",
    "valid_string = StringExample(\n",
    "    name=\"John Doe\", email=\"john@example.com\", description=\"A sample user\"\n",
    ")\n",
    "print(f\"Valid data: {valid_string.model_dump_json(indent=2)}\")\n",
    "\n",
    "try:\n",
    "    invalid_string = StringExample(\n",
    "        name=\"Jane Doe\",\n",
    "        email=\"not-an-email\",  # Invalid email format\n",
    "    )\n",
    "except Exception as e:\n",
    "    print(f\"Invalid data error: {e}\")"
   ]
  },
  {
   "cell_type": "markdown",
   "metadata": {},
   "source": [
    "### Numeric Types"
   ]
  },
  {
   "cell_type": "code",
   "execution_count": 7,
   "metadata": {},
   "outputs": [],
   "source": [
    "class NumericExample(BaseModel):\n",
    "    count: int\n",
    "    price: float\n",
    "    # Constrained numeric types:\n",
    "    probability: float = Field(..., ge=0.0, le=1.0)  # Between 0 and 1\n",
    "    age: int = Field(..., gt=0, lt=120)  # Between 1 and 119"
   ]
  },
  {
   "cell_type": "code",
   "execution_count": null,
   "metadata": {},
   "outputs": [],
   "source": [
    "# Demonstration\n",
    "print(\"\\nNumeric Type Example:\")\n",
    "valid_numeric = NumericExample(count=5, price=19.99, probability=0.75, age=30)\n",
    "print(f\"Valid data: {valid_numeric.model_dump_json(indent=2)}\")\n",
    "\n",
    "try:\n",
    "    invalid_numeric = NumericExample(\n",
    "        count=5,\n",
    "        price=19.99,\n",
    "        probability=1.5,  # Outside allowed range\n",
    "        age=30,\n",
    "    )\n",
    "except Exception as e:\n",
    "    print(f\"Invalid data error: {e}\")"
   ]
  },
  {
   "cell_type": "markdown",
   "metadata": {},
   "source": [
    "### Boolean Types"
   ]
  },
  {
   "cell_type": "code",
   "execution_count": 9,
   "metadata": {},
   "outputs": [],
   "source": [
    "class BooleanExample(BaseModel):\n",
    "    is_active: bool\n",
    "    has_subscription: bool = False  # With default value"
   ]
  },
  {
   "cell_type": "code",
   "execution_count": null,
   "metadata": {},
   "outputs": [],
   "source": [
    "# Demonstration\n",
    "print(\"\\nBoolean Type Example:\")\n",
    "valid_boolean = BooleanExample(is_active=True)\n",
    "print(f\"Valid data: {valid_boolean.model_dump_json(indent=2)}\")\n",
    "\n",
    "try:\n",
    "    invalid_boolean = BooleanExample(is_active=\"yes\")  # Not a boolean\n",
    "except Exception as e:\n",
    "    print(f\"Invalid data error: {e}\")"
   ]
  },
  {
   "cell_type": "markdown",
   "metadata": {},
   "source": [
    "### Literal Types"
   ]
  },
  {
   "cell_type": "code",
   "execution_count": 11,
   "metadata": {},
   "outputs": [],
   "source": [
    "class LiteralExample(BaseModel):\n",
    "    status: Literal[\"pending\", \"approved\", \"rejected\"]\n",
    "    role: Literal[\"admin\", \"user\", \"guest\"] = \"user\"  # With default\n"
   ]
  },
  {
   "cell_type": "code",
   "execution_count": null,
   "metadata": {},
   "outputs": [],
   "source": [
    "# Demonstration\n",
    "print(\"\\nLiteral Type Example:\")\n",
    "valid_literal = LiteralExample(status=\"approved\")\n",
    "print(f\"Valid data: {valid_literal.model_dump_json(indent=2)}\")\n",
    "\n",
    "try:\n",
    "    invalid_literal = LiteralExample(status=\"waiting\")  # Not in allowed literals\n",
    "except Exception as e:\n",
    "    print(f\"Invalid data error: {e}\")"
   ]
  },
  {
   "cell_type": "markdown",
   "metadata": {},
   "source": [
    "### List Types"
   ]
  },
  {
   "cell_type": "code",
   "execution_count": 13,
   "metadata": {},
   "outputs": [],
   "source": [
    "class ListExample(BaseModel):\n",
    "    tags: List[str]"
   ]
  },
  {
   "cell_type": "code",
   "execution_count": null,
   "metadata": {},
   "outputs": [],
   "source": [
    "# Demonstration\n",
    "print(\"\\nList Type Example:\")\n",
    "valid_list = ListExample(\n",
    "    tags=[\"python\", \"data\", \"validation\"]\n",
    ")\n",
    "print(f\"Valid data: {valid_list.model_dump_json(indent=2)}\")\n",
    "\n",
    "try:\n",
    "    invalid_list = ListExample(\n",
    "        tags=[\"python\", \"data\", \"validation\"],\n",
    "    )\n",
    "except Exception as e:\n",
    "    print(f\"Invalid data error: {e}\")"
   ]
  },
  {
   "cell_type": "markdown",
   "metadata": {},
   "source": [
    "## Part 2: Example Data Models for LLM Structured Outputs"
   ]
  },
  {
   "cell_type": "markdown",
   "metadata": {},
   "source": [
    "### Example 1: Customer Sentiment Analysis"
   ]
  },
  {
   "cell_type": "code",
   "execution_count": 15,
   "metadata": {},
   "outputs": [],
   "source": [
    "class SentimentAnalysis(BaseModel):\n",
    "    text: str\n",
    "    sentiment: Literal[\"positive\", \"negative\", \"neutral\"]\n",
    "    confidence: float = Field(..., gt=0.0, le=1.0)\n",
    "    key_phrases: List[str] = Field(..., min_length=2)"
   ]
  },
  {
   "cell_type": "code",
   "execution_count": null,
   "metadata": {},
   "outputs": [],
   "source": [
    "# Test example\n",
    "sentiment_analysis = SentimentAnalysis(\n",
    "    text=\"I really enjoyed using this product. It's fantastic!\",\n",
    "    sentiment=\"positive\",\n",
    "    confidence=0.92,\n",
    "    key_phrases=[\"enjoyed\", \"fantastic\"],\n",
    ")\n",
    "print(f\"\\nValid SentimentAnalysis:\\n{sentiment_analysis.model_dump_json(indent=2)}\")"
   ]
  },
  {
   "cell_type": "markdown",
   "metadata": {},
   "source": [
    "### Example 2: Product Recommendation"
   ]
  },
  {
   "cell_type": "code",
   "execution_count": 17,
   "metadata": {},
   "outputs": [],
   "source": [
    "class Product(BaseModel):\n",
    "    name: str\n",
    "    description: str\n",
    "    price: float = Field(..., gt=0)\n",
    "    category: str\n",
    "    in_stock: bool\n",
    "\n",
    "\n",
    "class ProductRecommendation(BaseModel):\n",
    "    user_query: str\n",
    "    recommended_products: List[Product]\n",
    "    reasoning: str\n",
    "    personalization_level: float = Field(..., ge=0.0, le=1.0)"
   ]
  },
  {
   "cell_type": "code",
   "execution_count": null,
   "metadata": {},
   "outputs": [],
   "source": [
    "product_recommendation = ProductRecommendation(\n",
    "    user_query=\"I need a laptop for gaming under $2000\",\n",
    "    recommended_products=[\n",
    "        Product(\n",
    "            name=\"GamerBook Pro\",\n",
    "            description=\"High-performance gaming laptop with RGB keyboard\",\n",
    "            price=1899.99,\n",
    "            category=\"Electronics\",\n",
    "            in_stock=True,\n",
    "        ),\n",
    "        Product(\n",
    "            name=\"PowerGamer X\",\n",
    "            description=\"Affordable gaming laptop with dedicated GPU\",\n",
    "            price=1499.99,\n",
    "            category=\"Electronics\",\n",
    "            in_stock=False,\n",
    "        ),\n",
    "    ],\n",
    "    reasoning=\"Selected based on gaming requirements and budget constraints\",\n",
    "    personalization_level=0.85,\n",
    ")\n",
    "print(\n",
    "    f\"\\nValid ProductRecommendation:\\n{product_recommendation.model_dump_json(indent=2)}\"\n",
    ")"
   ]
  },
  {
   "cell_type": "markdown",
   "metadata": {},
   "source": [
    "### Example 3: Content Generation with Metadata"
   ]
  },
  {
   "cell_type": "code",
   "execution_count": 19,
   "metadata": {},
   "outputs": [],
   "source": [
    "class ContentType(BaseModel):\n",
    "    title: str\n",
    "    content: str\n",
    "    word_count: int = Field(..., gt=0)\n",
    "    tags: List[str] = Field(..., min_length=1, max_length=10)\n",
    "    target_audience: Literal[\"general\", \"technical\", \"business\", \"academic\"]\n",
    "    reading_time_minutes: int = Field(..., gt=0)\n",
    "    seo_score: float = Field(..., ge=0.0, le=1.0)\n",
    "    contains_code_snippets: bool = False"
   ]
  },
  {
   "cell_type": "code",
   "execution_count": null,
   "metadata": {},
   "outputs": [],
   "source": [
    "content = ContentType(\n",
    "    title=\"Getting Started with Pydantic\",\n",
    "    content=\"Pydantic is a powerful library for data validation...\",\n",
    "    word_count=1200,\n",
    "    tags=[\"python\", \"data-validation\", \"pydantic\", \"tutorial\"],\n",
    "    target_audience=\"technical\",\n",
    "    reading_time_minutes=6,\n",
    "    seo_score=0.87,\n",
    "    contains_code_snippets=True,\n",
    ")\n",
    "print(f\"\\nValid ContentType:\\n{content.model_dump_json(indent=2)}\")"
   ]
  }
 ],
 "metadata": {
  "kernelspec": {
   "display_name": ".venv",
   "language": "python",
   "name": "python3"
  },
  "language_info": {
   "codemirror_mode": {
    "name": "ipython",
    "version": 3
   },
   "file_extension": ".py",
   "mimetype": "text/x-python",
   "name": "python",
   "nbconvert_exporter": "python",
   "pygments_lexer": "ipython3",
   "version": "3.11.10"
  }
 },
 "nbformat": 4,
 "nbformat_minor": 2
}
